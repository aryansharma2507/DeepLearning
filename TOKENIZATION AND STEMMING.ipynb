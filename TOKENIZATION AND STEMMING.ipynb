{
 "cells": [
  {
   "cell_type": "markdown",
   "metadata": {},
   "source": [
    "# TOKENIZATION"
   ]
  },
  {
   "cell_type": "code",
   "execution_count": 1,
   "metadata": {},
   "outputs": [],
   "source": [
    "#IMPORTING LIBRARIES\n",
    "import nltk"
   ]
  },
  {
   "cell_type": "code",
   "execution_count": 2,
   "metadata": {},
   "outputs": [],
   "source": [
    "from nltk.tokenize import word_tokenize, sent_tokenize"
   ]
  },
  {
   "cell_type": "code",
   "execution_count": 13,
   "metadata": {},
   "outputs": [],
   "source": [
    "para = \"\"\"One of the most common AI techniques used for processing big data is machine learning, a self-adaptive algorithm that gets increasingly better analysis and patterns with experience or with newly added data.\n",
    "\n",
    "If a digital payments company wanted to detect the occurrence or potential for fraud in its system, it could employ machine learning tools for this purpose. The computational algorithm built into a computer model will process all transactions happening on the digital platform, find patterns in the data set, and point out any anomaly detected by the pattern.\n",
    "\n",
    "Deep learning, a subset of machine learning, utilizes a hierarchical level of artificial neural networks to carry out the process of machine learning. The artificial neural networks are built like the human brain, with neuron nodes connected together like a web. While traditional programs build analysis with data in a linear way, the hierarchical function of deep learning systems enables machines to process data with a nonlinear approach.!\"\"\""
   ]
  },
  {
   "cell_type": "code",
   "execution_count": 14,
   "metadata": {},
   "outputs": [],
   "source": [
    "sentences = sent_tokenize(para)"
   ]
  },
  {
   "cell_type": "code",
   "execution_count": 15,
   "metadata": {},
   "outputs": [
    {
     "data": {
      "text/plain": [
       "7"
      ]
     },
     "execution_count": 15,
     "metadata": {},
     "output_type": "execute_result"
    }
   ],
   "source": [
    "len(sentences)"
   ]
  },
  {
   "cell_type": "code",
   "execution_count": 19,
   "metadata": {},
   "outputs": [],
   "source": [
    "words = word_tokenize(para) "
   ]
  },
  {
   "cell_type": "code",
   "execution_count": 20,
   "metadata": {},
   "outputs": [
    {
     "data": {
      "text/plain": [
       "['One',\n",
       " 'of',\n",
       " 'the',\n",
       " 'most',\n",
       " 'common',\n",
       " 'AI',\n",
       " 'techniques',\n",
       " 'used',\n",
       " 'for',\n",
       " 'processing',\n",
       " 'big',\n",
       " 'data',\n",
       " 'is',\n",
       " 'machine',\n",
       " 'learning',\n",
       " ',',\n",
       " 'a',\n",
       " 'self-adaptive',\n",
       " 'algorithm',\n",
       " 'that',\n",
       " 'gets',\n",
       " 'increasingly',\n",
       " 'better',\n",
       " 'analysis',\n",
       " 'and',\n",
       " 'patterns',\n",
       " 'with',\n",
       " 'experience',\n",
       " 'or',\n",
       " 'with',\n",
       " 'newly',\n",
       " 'added',\n",
       " 'data',\n",
       " '.',\n",
       " 'If',\n",
       " 'a',\n",
       " 'digital',\n",
       " 'payments',\n",
       " 'company',\n",
       " 'wanted',\n",
       " 'to',\n",
       " 'detect',\n",
       " 'the',\n",
       " 'occurrence',\n",
       " 'or',\n",
       " 'potential',\n",
       " 'for',\n",
       " 'fraud',\n",
       " 'in',\n",
       " 'its',\n",
       " 'system',\n",
       " ',',\n",
       " 'it',\n",
       " 'could',\n",
       " 'employ',\n",
       " 'machine',\n",
       " 'learning',\n",
       " 'tools',\n",
       " 'for',\n",
       " 'this',\n",
       " 'purpose',\n",
       " '.',\n",
       " 'The',\n",
       " 'computational',\n",
       " 'algorithm',\n",
       " 'built',\n",
       " 'into',\n",
       " 'a',\n",
       " 'computer',\n",
       " 'model',\n",
       " 'will',\n",
       " 'process',\n",
       " 'all',\n",
       " 'transactions',\n",
       " 'happening',\n",
       " 'on',\n",
       " 'the',\n",
       " 'digital',\n",
       " 'platform',\n",
       " ',',\n",
       " 'find',\n",
       " 'patterns',\n",
       " 'in',\n",
       " 'the',\n",
       " 'data',\n",
       " 'set',\n",
       " ',',\n",
       " 'and',\n",
       " 'point',\n",
       " 'out',\n",
       " 'any',\n",
       " 'anomaly',\n",
       " 'detected',\n",
       " 'by',\n",
       " 'the',\n",
       " 'pattern',\n",
       " '.',\n",
       " 'Deep',\n",
       " 'learning',\n",
       " ',',\n",
       " 'a',\n",
       " 'subset',\n",
       " 'of',\n",
       " 'machine',\n",
       " 'learning',\n",
       " ',',\n",
       " 'utilizes',\n",
       " 'a',\n",
       " 'hierarchical',\n",
       " 'level',\n",
       " 'of',\n",
       " 'artificial',\n",
       " 'neural',\n",
       " 'networks',\n",
       " 'to',\n",
       " 'carry',\n",
       " 'out',\n",
       " 'the',\n",
       " 'process',\n",
       " 'of',\n",
       " 'machine',\n",
       " 'learning',\n",
       " '.',\n",
       " 'The',\n",
       " 'artificial',\n",
       " 'neural',\n",
       " 'networks',\n",
       " 'are',\n",
       " 'built',\n",
       " 'like',\n",
       " 'the',\n",
       " 'human',\n",
       " 'brain',\n",
       " ',',\n",
       " 'with',\n",
       " 'neuron',\n",
       " 'nodes',\n",
       " 'connected',\n",
       " 'together',\n",
       " 'like',\n",
       " 'a',\n",
       " 'web',\n",
       " '.',\n",
       " 'While',\n",
       " 'traditional',\n",
       " 'programs',\n",
       " 'build',\n",
       " 'analysis',\n",
       " 'with',\n",
       " 'data',\n",
       " 'in',\n",
       " 'a',\n",
       " 'linear',\n",
       " 'way',\n",
       " ',',\n",
       " 'the',\n",
       " 'hierarchical',\n",
       " 'function',\n",
       " 'of',\n",
       " 'deep',\n",
       " 'learning',\n",
       " 'systems',\n",
       " 'enables',\n",
       " 'machines',\n",
       " 'to',\n",
       " 'process',\n",
       " 'data',\n",
       " 'with',\n",
       " 'a',\n",
       " 'nonlinear',\n",
       " 'approach',\n",
       " '.',\n",
       " '!']"
      ]
     },
     "execution_count": 20,
     "metadata": {},
     "output_type": "execute_result"
    }
   ],
   "source": [
    "words"
   ]
  },
  {
   "cell_type": "code",
   "execution_count": 21,
   "metadata": {},
   "outputs": [
    {
     "data": {
      "text/plain": [
       "173"
      ]
     },
     "execution_count": 21,
     "metadata": {},
     "output_type": "execute_result"
    }
   ],
   "source": [
    "len(words)"
   ]
  },
  {
   "cell_type": "code",
   "execution_count": 22,
   "metadata": {},
   "outputs": [],
   "source": [
    "from nltk.tokenize.punkt import PunktSentenceTokenizer"
   ]
  },
  {
   "cell_type": "code",
   "execution_count": 23,
   "metadata": {},
   "outputs": [],
   "source": [
    "pst = PunktSentenceTokenizer()"
   ]
  },
  {
   "cell_type": "code",
   "execution_count": 24,
   "metadata": {},
   "outputs": [
    {
     "name": "stdout",
     "output_type": "stream",
     "text": [
      "['One of the most common AI techniques used for processing big data is machine learning, a self-adaptive algorithm that gets increasingly better analysis and patterns with experience or with newly added data.', 'If a digital payments company wanted to detect the occurrence or potential for fraud in its system, it could employ machine learning tools for this purpose.', 'The computational algorithm built into a computer model will process all transactions happening on the digital platform, find patterns in the data set, and point out any anomaly detected by the pattern.', 'Deep learning, a subset of machine learning, utilizes a hierarchical level of artificial neural networks to carry out the process of machine learning.', 'The artificial neural networks are built like the human brain, with neuron nodes connected together like a web.', 'While traditional programs build analysis with data in a linear way, the hierarchical function of deep learning systems enables machines to process data with a nonlinear approach.', '!']\n"
     ]
    }
   ],
   "source": [
    "sent_tokens = pst.tokenize(para)\n",
    "\n",
    "print(sent_tokens)"
   ]
  },
  {
   "cell_type": "code",
   "execution_count": 25,
   "metadata": {},
   "outputs": [
    {
     "name": "stdout",
     "output_type": "stream",
     "text": [
      "[(0, 206), (208, 364), (365, 567), (569, 719), (720, 831), (832, 1011), (1011, 1012)]\n"
     ]
    }
   ],
   "source": [
    "span_tokens = pst.span_tokenize(para)\n",
    "\n",
    "print(list(span_tokens))"
   ]
  },
  {
   "cell_type": "code",
   "execution_count": 27,
   "metadata": {},
   "outputs": [
    {
     "data": {
      "text/plain": [
       "[['One',\n",
       "  'of',\n",
       "  'the',\n",
       "  'most',\n",
       "  'common',\n",
       "  'AI',\n",
       "  'techniques',\n",
       "  'used',\n",
       "  'for',\n",
       "  'processing',\n",
       "  'big',\n",
       "  'data',\n",
       "  'is',\n",
       "  'machine',\n",
       "  'learning',\n",
       "  ',',\n",
       "  'a',\n",
       "  'self-adaptive',\n",
       "  'algorithm',\n",
       "  'that',\n",
       "  'gets',\n",
       "  'increasingly',\n",
       "  'better',\n",
       "  'analysis',\n",
       "  'and',\n",
       "  'patterns',\n",
       "  'with',\n",
       "  'experience',\n",
       "  'or',\n",
       "  'with',\n",
       "  'newly',\n",
       "  'added',\n",
       "  'data',\n",
       "  '.'],\n",
       " ['If',\n",
       "  'a',\n",
       "  'digital',\n",
       "  'payments',\n",
       "  'company',\n",
       "  'wanted',\n",
       "  'to',\n",
       "  'detect',\n",
       "  'the',\n",
       "  'occurrence',\n",
       "  'or',\n",
       "  'potential',\n",
       "  'for',\n",
       "  'fraud',\n",
       "  'in',\n",
       "  'its',\n",
       "  'system',\n",
       "  ',',\n",
       "  'it',\n",
       "  'could',\n",
       "  'employ',\n",
       "  'machine',\n",
       "  'learning',\n",
       "  'tools',\n",
       "  'for',\n",
       "  'this',\n",
       "  'purpose',\n",
       "  '.'],\n",
       " ['The',\n",
       "  'computational',\n",
       "  'algorithm',\n",
       "  'built',\n",
       "  'into',\n",
       "  'a',\n",
       "  'computer',\n",
       "  'model',\n",
       "  'will',\n",
       "  'process',\n",
       "  'all',\n",
       "  'transactions',\n",
       "  'happening',\n",
       "  'on',\n",
       "  'the',\n",
       "  'digital',\n",
       "  'platform',\n",
       "  ',',\n",
       "  'find',\n",
       "  'patterns',\n",
       "  'in',\n",
       "  'the',\n",
       "  'data',\n",
       "  'set',\n",
       "  ',',\n",
       "  'and',\n",
       "  'point',\n",
       "  'out',\n",
       "  'any',\n",
       "  'anomaly',\n",
       "  'detected',\n",
       "  'by',\n",
       "  'the',\n",
       "  'pattern',\n",
       "  '.'],\n",
       " ['Deep',\n",
       "  'learning',\n",
       "  ',',\n",
       "  'a',\n",
       "  'subset',\n",
       "  'of',\n",
       "  'machine',\n",
       "  'learning',\n",
       "  ',',\n",
       "  'utilizes',\n",
       "  'a',\n",
       "  'hierarchical',\n",
       "  'level',\n",
       "  'of',\n",
       "  'artificial',\n",
       "  'neural',\n",
       "  'networks',\n",
       "  'to',\n",
       "  'carry',\n",
       "  'out',\n",
       "  'the',\n",
       "  'process',\n",
       "  'of',\n",
       "  'machine',\n",
       "  'learning',\n",
       "  '.'],\n",
       " ['The',\n",
       "  'artificial',\n",
       "  'neural',\n",
       "  'networks',\n",
       "  'are',\n",
       "  'built',\n",
       "  'like',\n",
       "  'the',\n",
       "  'human',\n",
       "  'brain',\n",
       "  ',',\n",
       "  'with',\n",
       "  'neuron',\n",
       "  'nodes',\n",
       "  'connected',\n",
       "  'together',\n",
       "  'like',\n",
       "  'a',\n",
       "  'web',\n",
       "  '.'],\n",
       " ['While',\n",
       "  'traditional',\n",
       "  'programs',\n",
       "  'build',\n",
       "  'analysis',\n",
       "  'with',\n",
       "  'data',\n",
       "  'in',\n",
       "  'a',\n",
       "  'linear',\n",
       "  'way',\n",
       "  ',',\n",
       "  'the',\n",
       "  'hierarchical',\n",
       "  'function',\n",
       "  'of',\n",
       "  'deep',\n",
       "  'learning',\n",
       "  'systems',\n",
       "  'enables',\n",
       "  'machines',\n",
       "  'to',\n",
       "  'process',\n",
       "  'data',\n",
       "  'with',\n",
       "  'a',\n",
       "  'nonlinear',\n",
       "  'approach',\n",
       "  '.'],\n",
       " ['!']]"
      ]
     },
     "execution_count": 27,
     "metadata": {},
     "output_type": "execute_result"
    }
   ],
   "source": [
    "sentences = pst.sentences_from_tokens(words)\n",
    "\n",
    "list(sentences)"
   ]
  },
  {
   "cell_type": "code",
   "execution_count": 28,
   "metadata": {},
   "outputs": [],
   "source": [
    "from nltk.probability import FreqDist"
   ]
  },
  {
   "cell_type": "code",
   "execution_count": 30,
   "metadata": {},
   "outputs": [],
   "source": [
    "freq_dist = FreqDist(words)"
   ]
  },
  {
   "cell_type": "code",
   "execution_count": 32,
   "metadata": {},
   "outputs": [
    {
     "data": {
      "text/plain": [
       "[('the', 8),\n",
       " (',', 8),\n",
       " ('a', 8),\n",
       " ('learning', 6),\n",
       " ('.', 6),\n",
       " ('of', 5),\n",
       " ('data', 5),\n",
       " ('with', 5),\n",
       " ('machine', 4),\n",
       " ('for', 3),\n",
       " ('to', 3),\n",
       " ('in', 3),\n",
       " ('process', 3),\n",
       " ('algorithm', 2),\n",
       " ('analysis', 2),\n",
       " ('and', 2),\n",
       " ('patterns', 2),\n",
       " ('or', 2),\n",
       " ('digital', 2),\n",
       " ('The', 2),\n",
       " ('built', 2),\n",
       " ('out', 2),\n",
       " ('hierarchical', 2),\n",
       " ('artificial', 2),\n",
       " ('neural', 2),\n",
       " ('networks', 2),\n",
       " ('like', 2),\n",
       " ('One', 1),\n",
       " ('most', 1),\n",
       " ('common', 1),\n",
       " ('AI', 1),\n",
       " ('techniques', 1),\n",
       " ('used', 1),\n",
       " ('processing', 1),\n",
       " ('big', 1),\n",
       " ('is', 1),\n",
       " ('self-adaptive', 1),\n",
       " ('that', 1),\n",
       " ('gets', 1),\n",
       " ('increasingly', 1),\n",
       " ('better', 1),\n",
       " ('experience', 1),\n",
       " ('newly', 1),\n",
       " ('added', 1),\n",
       " ('If', 1),\n",
       " ('payments', 1),\n",
       " ('company', 1),\n",
       " ('wanted', 1),\n",
       " ('detect', 1),\n",
       " ('occurrence', 1),\n",
       " ('potential', 1),\n",
       " ('fraud', 1),\n",
       " ('its', 1),\n",
       " ('system', 1),\n",
       " ('it', 1),\n",
       " ('could', 1),\n",
       " ('employ', 1),\n",
       " ('tools', 1),\n",
       " ('this', 1),\n",
       " ('purpose', 1),\n",
       " ('computational', 1),\n",
       " ('into', 1),\n",
       " ('computer', 1),\n",
       " ('model', 1),\n",
       " ('will', 1),\n",
       " ('all', 1),\n",
       " ('transactions', 1),\n",
       " ('happening', 1),\n",
       " ('on', 1),\n",
       " ('platform', 1),\n",
       " ('find', 1),\n",
       " ('set', 1),\n",
       " ('point', 1),\n",
       " ('any', 1),\n",
       " ('anomaly', 1),\n",
       " ('detected', 1),\n",
       " ('by', 1),\n",
       " ('pattern', 1),\n",
       " ('Deep', 1),\n",
       " ('subset', 1),\n",
       " ('utilizes', 1),\n",
       " ('level', 1),\n",
       " ('carry', 1),\n",
       " ('are', 1),\n",
       " ('human', 1),\n",
       " ('brain', 1),\n",
       " ('neuron', 1),\n",
       " ('nodes', 1),\n",
       " ('connected', 1),\n",
       " ('together', 1),\n",
       " ('web', 1),\n",
       " ('While', 1),\n",
       " ('traditional', 1),\n",
       " ('programs', 1),\n",
       " ('build', 1),\n",
       " ('linear', 1),\n",
       " ('way', 1),\n",
       " ('function', 1),\n",
       " ('deep', 1),\n",
       " ('systems', 1),\n",
       " ('enables', 1),\n",
       " ('machines', 1),\n",
       " ('nonlinear', 1),\n",
       " ('approach', 1),\n",
       " ('!', 1)]"
      ]
     },
     "execution_count": 32,
     "metadata": {},
     "output_type": "execute_result"
    }
   ],
   "source": [
    "freq_dist.most_common()"
   ]
  },
  {
   "cell_type": "markdown",
   "metadata": {},
   "source": [
    "# STEMMING"
   ]
  },
  {
   "cell_type": "code",
   "execution_count": 33,
   "metadata": {},
   "outputs": [],
   "source": [
    "# Import the toolkit and the full Porter Stemmer library\n",
    "import nltk\n",
    "\n",
    "from nltk.stem.porter import *"
   ]
  },
  {
   "cell_type": "code",
   "execution_count": 34,
   "metadata": {},
   "outputs": [],
   "source": [
    "p_stemmer = PorterStemmer()"
   ]
  },
  {
   "cell_type": "code",
   "execution_count": 35,
   "metadata": {},
   "outputs": [],
   "source": [
    "words = ['run','runner','running','ran','runs','easily','fairly']"
   ]
  },
  {
   "cell_type": "code",
   "execution_count": 36,
   "metadata": {},
   "outputs": [
    {
     "name": "stdout",
     "output_type": "stream",
     "text": [
      "run --> run\n",
      "runner --> runner\n",
      "running --> run\n",
      "ran --> ran\n",
      "runs --> run\n",
      "easily --> easili\n",
      "fairly --> fairli\n"
     ]
    }
   ],
   "source": [
    "for word in words:\n",
    "    print(word+' --> '+p_stemmer.stem(word))"
   ]
  },
  {
   "cell_type": "code",
   "execution_count": 37,
   "metadata": {},
   "outputs": [],
   "source": [
    "# Import the toolkit and the full Snowball Stemmer library\n",
    "from nltk.stem.snowball import SnowballStemmer\n",
    "\n",
    "# The Snowball Stemmer requires that you pass a language parameter\n",
    "s_stemmer = SnowballStemmer(language='english')"
   ]
  },
  {
   "cell_type": "code",
   "execution_count": 38,
   "metadata": {},
   "outputs": [],
   "source": [
    "words = ['run','runner','running','ran','runs','easily','fairly']"
   ]
  },
  {
   "cell_type": "code",
   "execution_count": 39,
   "metadata": {},
   "outputs": [
    {
     "name": "stdout",
     "output_type": "stream",
     "text": [
      "run --> run\n",
      "runner --> runner\n",
      "running --> run\n",
      "ran --> ran\n",
      "runs --> run\n",
      "easily --> easili\n",
      "fairly --> fair\n"
     ]
    }
   ],
   "source": [
    "for word in words:\n",
    "    print(word+' --> '+s_stemmer.stem(word))"
   ]
  },
  {
   "cell_type": "code",
   "execution_count": null,
   "metadata": {},
   "outputs": [],
   "source": []
  }
 ],
 "metadata": {
  "kernelspec": {
   "display_name": "Python 3",
   "language": "python",
   "name": "python3"
  },
  "language_info": {
   "codemirror_mode": {
    "name": "ipython",
    "version": 3
   },
   "file_extension": ".py",
   "mimetype": "text/x-python",
   "name": "python",
   "nbconvert_exporter": "python",
   "pygments_lexer": "ipython3",
   "version": "3.8.3"
  }
 },
 "nbformat": 4,
 "nbformat_minor": 4
}
