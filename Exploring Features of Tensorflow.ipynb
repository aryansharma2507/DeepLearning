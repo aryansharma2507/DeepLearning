{
 "cells": [
  {
   "cell_type": "markdown",
   "metadata": {
    "id": "630XMOAc96s6"
   },
   "source": [
    "# Exercises\n",
    "\n",
    "There are several main adjustments you may try.\n",
    "\n",
    "Please pay attention to the time it takes for each epoch to conclude.\n",
    "\n",
    "Using the code from the lecture as the basis, fiddle with the hyperparameters of the algorithm.\n",
    "\n",
    "1. The *width* (the hidden layer size) of the algorithm. Try a hidden layer size of 200. How does the validation accuracy of the model change? What about the time it took the algorithm to train? Can you find a hidden layer size that does better?\n",
    "\n",
    "2. The *depth* of the algorithm. Add another hidden layer to the algorithm. This is an extremely important exercise! How does the validation accuracy change? What about the time it took the algorithm to train? Hint: Be careful with the shapes of the weights and the biases.\n",
    "\n",
    "3. The *width and depth* of the algorithm. Add as many additional layers as you need to reach 5 hidden layers. Moreover, adjust the width of the algorithm as you find suitable. How does the validation accuracy change? What about the time it took the algorithm to train?\n",
    "\n",
    "4. Fiddle with the activation functions. Try applying sigmoid transformation to both layers. The sigmoid activation is given by the string 'sigmoid'.\n",
    "\n",
    "5. Fiddle with the activation functions. Try applying a ReLu to the first hidden layer and tanh to the second one. The tanh activation is given by the string 'tanh'.\n",
    "\n",
    "6. Adjust the batch size. Try a batch size of 10000. How does the required time change? What about the accuracy?\n",
    "\n",
    "7. Adjust the batch size. Try a batch size of 1. That's the SGD. How do the time and accuracy change? Is the result coherent with the theory?\n",
    "\n",
    "8. Adjust the learning rate. Try a value of 0.0001. Does it make a difference?\n",
    "\n",
    "9. Adjust the learning rate. Try a value of 0.02. Does it make a difference?\n",
    "\n",
    "10. Combine all the methods above and try to reach a validation accuracy of 98.5+ percent.\n",
    "\n",
    "Good luck!"
   ]
  },
  {
   "cell_type": "markdown",
   "metadata": {
    "id": "EjkMTYwu96tg"
   },
   "source": [
    "# Deep Neural Network for MNIST Classification\n",
    "\n",
    "We'll apply all the knowledge from the lectures in this section to write a deep neural network. The problem we've chosen is referred to as the \"Hello World\" of deep learning because for most students it is the first deep learning algorithm they see.\n",
    "\n",
    "The dataset is called MNIST and refers to handwritten digit recognition. You can find more about it on Yann LeCun's website (Director of AI Research, Facebook). He is one of the pioneers of what we've been talking about and of more complex approaches that are widely used today, such as covolutional neural networks (CNNs). \n",
    "\n",
    "The dataset provides 70,000 images (28x28 pixels) of handwritten digits (1 digit per image). \n",
    "\n",
    "The goal is to write an algorithm that detects which digit is written. Since there are only 10 digits (0, 1, 2, 3, 4, 5, 6, 7, 8, 9), this is a classification problem with 10 classes. \n",
    "\n",
    "Our goal would be to build a neural network with 2 hidden layers."
   ]
  },
  {
   "cell_type": "markdown",
   "metadata": {
    "id": "Hdou1Fnk96tm"
   },
   "source": [
    "## Import the relevant packages"
   ]
  },
  {
   "cell_type": "code",
   "execution_count": 39,
   "metadata": {
    "id": "rduMxGh_96tr"
   },
   "outputs": [],
   "source": [
    "import numpy as np\n",
    "import tensorflow as tf\n",
    "\n",
    "import tensorflow_datasets as tfds"
   ]
  },
  {
   "cell_type": "markdown",
   "metadata": {
    "id": "LmhZWzwq96tv"
   },
   "source": [
    "## Data\n",
    "\n",
    "That's where we load and preprocess our data."
   ]
  },
  {
   "cell_type": "code",
   "execution_count": 40,
   "metadata": {
    "id": "tISe6R-G96tx"
   },
   "outputs": [],
   "source": [
    "mnist_dataset, mnist_info = tfds.load(name='mnist', with_info=True, as_supervised=True)\n",
    "mnist_train, mnist_test = mnist_dataset['train'], mnist_dataset['test']\n",
    "\n",
    "num_validation_samples = 0.1 * mnist_info.splits['train'].num_examples\n",
    "\n",
    "num_validation_samples = tf.cast(num_validation_samples, tf.int64)\n",
    "\n",
    "\n",
    "num_test_samples = mnist_info.splits['test'].num_examples\n",
    "\n",
    "num_test_samples = tf.cast(num_test_samples, tf.int64)\n",
    "\n",
    "def scale(image, label):\n",
    "   \n",
    "    image = tf.cast(image, tf.float32)\n",
    "    image /= 255.\n",
    "\n",
    "    return image, label\n",
    "\n",
    "\n",
    "scaled_train_and_validation_data = mnist_train.map(scale)\n",
    "test_data = mnist_test.map(scale)\n",
    "\n",
    "BUFFER_SIZE = 10000\n",
    "shuffled_train_and_validation_data = scaled_train_and_validation_data.shuffle(BUFFER_SIZE)\n",
    "\n",
    "validation_data = shuffled_train_and_validation_data.take(num_validation_samples)\n",
    "\n",
    "train_data = shuffled_train_and_validation_data.skip(num_validation_samples)\n",
    "\n",
    "BATCH_SIZE = 100\n",
    "\n",
    "train_data = train_data.batch(BATCH_SIZE)\n",
    "\n",
    "validation_data = validation_data.batch(num_validation_samples)\n",
    "\n",
    "\n",
    "test_data = test_data.batch(num_test_samples)\n",
    "\n",
    "validation_inputs, validation_targets = next(iter(validation_data))"
   ]
  },
  {
   "cell_type": "markdown",
   "metadata": {
    "id": "rinKwo7p96t-"
   },
   "source": [
    "## Model"
   ]
  },
  {
   "cell_type": "markdown",
   "metadata": {
    "id": "DjNrE9tD96uB"
   },
   "source": [
    "### Outline the model\n",
    "When thinking about a deep learning algorithm, we mostly imagine building the model. So, let's do it :)"
   ]
  },
  {
   "cell_type": "code",
   "execution_count": 41,
   "metadata": {
    "id": "huMvOvCX96uD"
   },
   "outputs": [],
   "source": [
    "input_size = 784\n",
    "output_size = 10\n",
    "\n",
    "hidden_layer_size = 200\n",
    "    \n",
    "model = tf.keras.Sequential([\n",
    "    tf.keras.layers.Flatten(input_shape=(28, 28, 1)), # input layer\n",
    "    \n",
    "    tf.keras.layers.Dense(hidden_layer_size, activation='relu'), # 1st hidden layer\n",
    "    tf.keras.layers.Dense(hidden_layer_size, activation='tanh'),#2nd hidden layer\n",
    "    \n",
    "    # the final layer is no different, we just make sure to activate it with softmax\n",
    "    tf.keras.layers.Dense(output_size, activation='softmax') # output layer\n",
    "])"
   ]
  },
  {
   "cell_type": "markdown",
   "metadata": {
    "id": "hZeRZZWX96uK"
   },
   "source": [
    "### Choose the optimizer and the loss function"
   ]
  },
  {
   "cell_type": "code",
   "execution_count": 42,
   "metadata": {
    "id": "T1yJQ8qN96uL"
   },
   "outputs": [],
   "source": [
    "model.compile(optimizer=tf.keras.optimizers.Adam(), loss='sparse_categorical_crossentropy', metrics=['accuracy'])"
   ]
  },
  {
   "cell_type": "markdown",
   "metadata": {
    "id": "AUWsHIiQ96uM"
   },
   "source": [
    "### Training\n",
    "That's where we train the model we have built."
   ]
  },
  {
   "cell_type": "code",
   "execution_count": 43,
   "metadata": {
    "colab": {
     "base_uri": "https://localhost:8080/"
    },
    "id": "uLVi_S3y96uO",
    "outputId": "dfba275c-20d7-4d05-fdcf-b3e99d39bfc8"
   },
   "outputs": [
    {
     "name": "stdout",
     "output_type": "stream",
     "text": [
      "Epoch 1/5\n",
      "540/540 [==============================] - 9s 13ms/step - loss: 0.4623 - accuracy: 0.8636 - val_loss: 0.1298 - val_accuracy: 0.9630\n",
      "Epoch 2/5\n",
      "540/540 [==============================] - 5s 9ms/step - loss: 0.1097 - accuracy: 0.9653 - val_loss: 0.0887 - val_accuracy: 0.9738\n",
      "Epoch 3/5\n",
      "540/540 [==============================] - 5s 9ms/step - loss: 0.0731 - accuracy: 0.9767 - val_loss: 0.0756 - val_accuracy: 0.9798\n",
      "Epoch 4/5\n",
      "540/540 [==============================] - 5s 9ms/step - loss: 0.0547 - accuracy: 0.9826 - val_loss: 0.0580 - val_accuracy: 0.9828\n",
      "Epoch 5/5\n",
      "540/540 [==============================] - 5s 9ms/step - loss: 0.0439 - accuracy: 0.9873 - val_loss: 0.0482 - val_accuracy: 0.9855\n"
     ]
    },
    {
     "data": {
      "text/plain": [
       "<tensorflow.python.keras.callbacks.History at 0x7f5ad9a8bf28>"
      ]
     },
     "execution_count": 43,
     "metadata": {
      "tags": []
     },
     "output_type": "execute_result"
    }
   ],
   "source": [
    "# determine the maximum number of epochs\n",
    "NUM_EPOCHS = 5\n",
    "model.fit(train_data, epochs=NUM_EPOCHS, validation_data=(validation_inputs, validation_targets), validation_steps=1, verbose =1)"
   ]
  },
  {
   "cell_type": "markdown",
   "metadata": {
    "id": "B7vzKsL496uW"
   },
   "source": [
    "## Test the model\n",
    "\n",
    "As we discussed in the lectures, after training on the training data and validating on the validation data, we test the final prediction power of our model by running it on the test dataset that the algorithm has NEVER seen before.\n",
    "\n",
    "It is very important to realize that fiddling with the hyperparameters overfits the validation dataset. \n",
    "\n",
    "The test is the absolute final instance. You should not test before you are completely done with adjusting your model.\n",
    "\n",
    "If you adjust your model after testing, you will start overfitting the test dataset, which will defeat its purpose."
   ]
  },
  {
   "cell_type": "markdown",
   "metadata": {
    "id": "mxNhZ7-EauSu"
   },
   "source": []
  },
  {
   "cell_type": "code",
   "execution_count": 44,
   "metadata": {
    "colab": {
     "base_uri": "https://localhost:8080/"
    },
    "id": "H2HPyoPY96ud",
    "outputId": "c3d1d703-b632-4493-b266-e779766a9073"
   },
   "outputs": [
    {
     "name": "stdout",
     "output_type": "stream",
     "text": [
      "1/1 [==============================] - 1s 1s/step - loss: 0.0725 - accuracy: 0.9774\n"
     ]
    }
   ],
   "source": [
    "test_loss, test_accuracy = model.evaluate(test_data)"
   ]
  },
  {
   "cell_type": "code",
   "execution_count": 45,
   "metadata": {
    "colab": {
     "base_uri": "https://localhost:8080/"
    },
    "id": "8nLriaSX96uf",
    "outputId": "095d24f3-1eaf-4976-a923-7ae19e23480c"
   },
   "outputs": [
    {
     "name": "stdout",
     "output_type": "stream",
     "text": [
      "Test loss: 0.07. Test accuracy: 97.74%\n"
     ]
    }
   ],
   "source": [
    "# We can apply some nice formatting if we want to\n",
    "print('Test loss: {0:.2f}. Test accuracy: {1:.2f}%'.format(test_loss, test_accuracy*100.))"
   ]
  },
  {
   "cell_type": "markdown",
   "metadata": {
    "id": "DbtNuzn8avkF"
   },
   "source": [
    "1) Changing hidden layer size: Val accuracy goes 98.7%, time taken for model training is 32 seconds <br>\n",
    "2)adding one more hidden layer does not change the impact that much. Validation accuracy is still same and time taken is 34 seconds <br>\n",
    "3)After adding 5 hidden layers, accuracy goes down a little. It becomes 98.1% and the time taken is 39 seconds <br>\n",
    "4)Putting sigmoid as activation function for both layers their is decrease in accuracy as it becomes 97.1% and time taken is 29 seconds<br>\n",
    "5)After seeing decrease in accuracy and greater time, i had removed extra hidden layes and keep it to two only. After changing the activation function of second layer to tanh, their is increase in accuracy as it becomes 98.8% and time taken is 33 seconds <br>\n",
    "6) After changing the batch size to 10,000 their is a lot decrease in validation accuracy as it comes around 90%. The time taken is 23 seconds.<br>\n",
    "7)Changing the batch size to 1 results in the highly increase in the duration of model training. Time taken for training is around 10 minutes and change in accuracy is not much and also less than the required accuracy <br>\n",
    "8) Changing the learning rate to 0.0001 results in less accuracy which is 96%.Time taken is 29 seconds. <br>\n",
    "9) Changing the learning rate to 0.02 results in decrease in accuracy and it comes around 90% and the time taken is 26 seconds <br>\n",
    "10) To get validation accuracy above 98.5%, the ideal parameters are batch_size=100, optimizer=adam at default learning rate, 2 hidden layers, one with relu and other with tanh as activation functions and hidden layer size as 200 <br>\n",
    "![image.png](data:image/png;base64,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)"
   ]
  },
  {
   "cell_type": "markdown",
   "metadata": {
    "id": "Bt3iEz_d96ug"
   },
   "source": [
    "Using the initial model and hyperparameters given in this notebook, the final test accuracy should be roughly around 97%.\n",
    "\n",
    "Each time the code is rerun, we get a different accuracy as the batches are shuffled, the weights are initialized in a different way, etc.\n",
    "\n",
    "Finally, we have intentionally reached a suboptimal solution, so you can have space to build on it."
   ]
  }
 ],
 "metadata": {
  "colab": {
   "collapsed_sections": [],
   "name": "DRILL2",
   "provenance": []
  },
  "kernelspec": {
   "display_name": "Python 3",
   "language": "python",
   "name": "python3"
  },
  "language_info": {
   "codemirror_mode": {
    "name": "ipython",
    "version": 3
   },
   "file_extension": ".py",
   "mimetype": "text/x-python",
   "name": "python",
   "nbconvert_exporter": "python",
   "pygments_lexer": "ipython3",
   "version": "3.8.3"
  }
 },
 "nbformat": 4,
 "nbformat_minor": 1
}
